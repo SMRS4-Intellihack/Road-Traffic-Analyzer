{
  "nbformat": 4,
  "nbformat_minor": 0,
  "metadata": {
    "colab": {
      "name": "VideoSplitter.ipynb",
      "provenance": [],
      "collapsed_sections": []
    },
    "kernelspec": {
      "name": "python3",
      "display_name": "Python 3"
    }
  },
  "cells": [
    {
      "cell_type": "code",
      "metadata": {
        "id": "DokC2ki8alzR",
        "colab_type": "code",
        "colab": {
          "base_uri": "https://localhost:8080/",
          "height": 483
        },
        "outputId": "69cbb546-e93f-4a1c-b227-fa612dc64c15"
      },
      "source": [
        "!pip install moviepy\n",
        "\n",
        "from moviepy.video.io.ffmpeg_tools import ffmpeg_extract_subclip\n",
        "from moviepy.video.io.ffmpeg_tools import ffmpeg_extract_audio\n",
        "from moviepy.video.io.VideoFileClip import VideoFileClip\n",
        "import datetime\n",
        "\n",
        "CLIP_DURATION = 10 #in minutes\n",
        "VIDEO_NAME = \"video_comp3.mp4\"\n",
        "DURATION = VideoFileClip(VIDEO_NAME).duration\n",
        "\n",
        "print(\"Duration: \",VideoFileClip(VIDEO_NAME).duration)\n",
        "\n",
        "# file_names=[]\n",
        "i=1\n",
        "for time in range (0,int(DURATION),(CLIP_DURATION*60)):\n",
        "  timestamp=str(datetime.timedelta(seconds = int (time)))\n",
        "  # targetname=\"clip-\"+timestamp\n",
        "  targetname=\"clip-\"+str(i)\n",
        "  i+=1\n",
        "  ffmpeg_extract_subclip(VIDEO_NAME, time, time+(CLIP_DURATION*60), targetname=\"video_clips/\"+targetname+\".mp4\")\n",
        "  try:\n",
        "    ffmpeg_extract_audio((\"video_clips/\"+targetname+\".mp4\"),str(\"audio_clips/\"+targetname+\".wav\"),bitrate=500)\n",
        "  except IOError:\n",
        "    print(\"No audio source found in video\")\n",
        "\n"
      ],
      "execution_count": 32,
      "outputs": [
        {
          "output_type": "stream",
          "text": [
            "Requirement already satisfied: moviepy in /usr/local/lib/python3.6/dist-packages (0.2.3.5)\n",
            "Requirement already satisfied: decorator<5.0,>=4.0.2 in /usr/local/lib/python3.6/dist-packages (from moviepy) (4.4.1)\n",
            "Requirement already satisfied: tqdm<5.0,>=4.11.2 in /usr/local/lib/python3.6/dist-packages (from moviepy) (4.28.1)\n",
            "Requirement already satisfied: imageio<3.0,>=2.1.2 in /usr/local/lib/python3.6/dist-packages (from moviepy) (2.4.1)\n",
            "Requirement already satisfied: numpy in /usr/local/lib/python3.6/dist-packages (from moviepy) (1.17.3)\n",
            "Requirement already satisfied: pillow in /usr/local/lib/python3.6/dist-packages (from imageio<3.0,>=2.1.2->moviepy) (4.3.0)\n",
            "Requirement already satisfied: olefile in /usr/local/lib/python3.6/dist-packages (from pillow->imageio<3.0,>=2.1.2->moviepy) (0.46)\n",
            "Duration:  840.54\n",
            "\n",
            "[MoviePy] Running:\n",
            ">>> /usr/bin/ffmpeg -y -i video_comp3.mp4 -ss 0.00 -t 600.00 -vcodec copy -acodec copy video_clips/clip-1.mp4\n",
            "... command successful.\n",
            "\n",
            "[MoviePy] Running:\n",
            ">>> /usr/bin/ffmpeg -y -i video_clips/clip-1.mp4 -ab 500k -ar 44100 audio_clips/clip-1.wav\n",
            "... command successful.\n",
            "\n",
            "[MoviePy] Running:\n",
            ">>> /usr/bin/ffmpeg -y -i video_comp3.mp4 -ss 600.00 -t 600.00 -vcodec copy -acodec copy video_clips/clip-2.mp4\n",
            "... command successful.\n",
            "\n",
            "[MoviePy] Running:\n",
            ">>> /usr/bin/ffmpeg -y -i video_clips/clip-2.mp4 -ab 500k -ar 44100 audio_clips/clip-2.wav\n",
            "... command successful.\n"
          ],
          "name": "stdout"
        }
      ]
    }
  ]
}